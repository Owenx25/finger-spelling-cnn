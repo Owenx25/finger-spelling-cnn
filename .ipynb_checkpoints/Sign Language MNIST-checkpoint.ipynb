{
 "cells": [
  {
   "cell_type": "code",
   "execution_count": 1,
   "metadata": {},
   "outputs": [],
   "source": [
    "import numpy as np\n",
    "import pandas as pd\n",
    "import matplotlib.pyplot as plt\n",
    "import seaborn as sns\n",
    "import torchvision\n",
    "import torch\n",
    "\n",
    "from torch.utils.data import Dataset, DataLoader\n",
    "from torchvision import transforms, utils"
   ]
  },
  {
   "cell_type": "markdown",
   "metadata": {},
   "source": [
    "Dict for converting labels to their respective Letters"
   ]
  },
  {
   "cell_type": "code",
   "execution_count": 2,
   "metadata": {},
   "outputs": [],
   "source": [
    "letter_dict = {\n",
    "    0: 'A',\n",
    "    1: 'B',\n",
    "    2: 'C',\n",
    "    3: 'D',\n",
    "    4: 'E',\n",
    "    5: 'F',\n",
    "    6: 'G',\n",
    "    7: 'H',\n",
    "    8: 'I',\n",
    "    10: 'K',\n",
    "    11: 'L',\n",
    "    12: 'M',\n",
    "    13: 'N',\n",
    "    14: 'O',\n",
    "    15: 'P',\n",
    "    16: 'Q',\n",
    "    17: 'R',\n",
    "    18: 'S',\n",
    "    19: 'T',\n",
    "    20: 'U',\n",
    "    21: 'V',\n",
    "    22: 'W',\n",
    "    23: 'X',\n",
    "    24: 'Y'\n",
    "}"
   ]
  },
  {
   "cell_type": "code",
   "execution_count": 3,
   "metadata": {},
   "outputs": [
    {
     "data": {
      "text/html": [
       "<div>\n",
       "<style scoped>\n",
       "    .dataframe tbody tr th:only-of-type {\n",
       "        vertical-align: middle;\n",
       "    }\n",
       "\n",
       "    .dataframe tbody tr th {\n",
       "        vertical-align: top;\n",
       "    }\n",
       "\n",
       "    .dataframe thead th {\n",
       "        text-align: right;\n",
       "    }\n",
       "</style>\n",
       "<table border=\"1\" class=\"dataframe\">\n",
       "  <thead>\n",
       "    <tr style=\"text-align: right;\">\n",
       "      <th></th>\n",
       "      <th>label</th>\n",
       "      <th>pixel1</th>\n",
       "      <th>pixel2</th>\n",
       "      <th>pixel3</th>\n",
       "      <th>pixel4</th>\n",
       "      <th>pixel5</th>\n",
       "      <th>pixel6</th>\n",
       "      <th>pixel7</th>\n",
       "      <th>pixel8</th>\n",
       "      <th>pixel9</th>\n",
       "      <th>...</th>\n",
       "      <th>pixel775</th>\n",
       "      <th>pixel776</th>\n",
       "      <th>pixel777</th>\n",
       "      <th>pixel778</th>\n",
       "      <th>pixel779</th>\n",
       "      <th>pixel780</th>\n",
       "      <th>pixel781</th>\n",
       "      <th>pixel782</th>\n",
       "      <th>pixel783</th>\n",
       "      <th>pixel784</th>\n",
       "    </tr>\n",
       "  </thead>\n",
       "  <tbody>\n",
       "    <tr>\n",
       "      <th>0</th>\n",
       "      <td>3</td>\n",
       "      <td>107</td>\n",
       "      <td>118</td>\n",
       "      <td>127</td>\n",
       "      <td>134</td>\n",
       "      <td>139</td>\n",
       "      <td>143</td>\n",
       "      <td>146</td>\n",
       "      <td>150</td>\n",
       "      <td>153</td>\n",
       "      <td>...</td>\n",
       "      <td>207</td>\n",
       "      <td>207</td>\n",
       "      <td>207</td>\n",
       "      <td>207</td>\n",
       "      <td>206</td>\n",
       "      <td>206</td>\n",
       "      <td>206</td>\n",
       "      <td>204</td>\n",
       "      <td>203</td>\n",
       "      <td>202</td>\n",
       "    </tr>\n",
       "    <tr>\n",
       "      <th>1</th>\n",
       "      <td>6</td>\n",
       "      <td>155</td>\n",
       "      <td>157</td>\n",
       "      <td>156</td>\n",
       "      <td>156</td>\n",
       "      <td>156</td>\n",
       "      <td>157</td>\n",
       "      <td>156</td>\n",
       "      <td>158</td>\n",
       "      <td>158</td>\n",
       "      <td>...</td>\n",
       "      <td>69</td>\n",
       "      <td>149</td>\n",
       "      <td>128</td>\n",
       "      <td>87</td>\n",
       "      <td>94</td>\n",
       "      <td>163</td>\n",
       "      <td>175</td>\n",
       "      <td>103</td>\n",
       "      <td>135</td>\n",
       "      <td>149</td>\n",
       "    </tr>\n",
       "    <tr>\n",
       "      <th>2</th>\n",
       "      <td>2</td>\n",
       "      <td>187</td>\n",
       "      <td>188</td>\n",
       "      <td>188</td>\n",
       "      <td>187</td>\n",
       "      <td>187</td>\n",
       "      <td>186</td>\n",
       "      <td>187</td>\n",
       "      <td>188</td>\n",
       "      <td>187</td>\n",
       "      <td>...</td>\n",
       "      <td>202</td>\n",
       "      <td>201</td>\n",
       "      <td>200</td>\n",
       "      <td>199</td>\n",
       "      <td>198</td>\n",
       "      <td>199</td>\n",
       "      <td>198</td>\n",
       "      <td>195</td>\n",
       "      <td>194</td>\n",
       "      <td>195</td>\n",
       "    </tr>\n",
       "    <tr>\n",
       "      <th>3</th>\n",
       "      <td>2</td>\n",
       "      <td>211</td>\n",
       "      <td>211</td>\n",
       "      <td>212</td>\n",
       "      <td>212</td>\n",
       "      <td>211</td>\n",
       "      <td>210</td>\n",
       "      <td>211</td>\n",
       "      <td>210</td>\n",
       "      <td>210</td>\n",
       "      <td>...</td>\n",
       "      <td>235</td>\n",
       "      <td>234</td>\n",
       "      <td>233</td>\n",
       "      <td>231</td>\n",
       "      <td>230</td>\n",
       "      <td>226</td>\n",
       "      <td>225</td>\n",
       "      <td>222</td>\n",
       "      <td>229</td>\n",
       "      <td>163</td>\n",
       "    </tr>\n",
       "    <tr>\n",
       "      <th>4</th>\n",
       "      <td>13</td>\n",
       "      <td>164</td>\n",
       "      <td>167</td>\n",
       "      <td>170</td>\n",
       "      <td>172</td>\n",
       "      <td>176</td>\n",
       "      <td>179</td>\n",
       "      <td>180</td>\n",
       "      <td>184</td>\n",
       "      <td>185</td>\n",
       "      <td>...</td>\n",
       "      <td>92</td>\n",
       "      <td>105</td>\n",
       "      <td>105</td>\n",
       "      <td>108</td>\n",
       "      <td>133</td>\n",
       "      <td>163</td>\n",
       "      <td>157</td>\n",
       "      <td>163</td>\n",
       "      <td>164</td>\n",
       "      <td>179</td>\n",
       "    </tr>\n",
       "  </tbody>\n",
       "</table>\n",
       "<p>5 rows × 785 columns</p>\n",
       "</div>"
      ],
      "text/plain": [
       "   label  pixel1  pixel2  pixel3  pixel4  pixel5  pixel6  pixel7  pixel8  \\\n",
       "0      3     107     118     127     134     139     143     146     150   \n",
       "1      6     155     157     156     156     156     157     156     158   \n",
       "2      2     187     188     188     187     187     186     187     188   \n",
       "3      2     211     211     212     212     211     210     211     210   \n",
       "4     13     164     167     170     172     176     179     180     184   \n",
       "\n",
       "   pixel9    ...     pixel775  pixel776  pixel777  pixel778  pixel779  \\\n",
       "0     153    ...          207       207       207       207       206   \n",
       "1     158    ...           69       149       128        87        94   \n",
       "2     187    ...          202       201       200       199       198   \n",
       "3     210    ...          235       234       233       231       230   \n",
       "4     185    ...           92       105       105       108       133   \n",
       "\n",
       "   pixel780  pixel781  pixel782  pixel783  pixel784  \n",
       "0       206       206       204       203       202  \n",
       "1       163       175       103       135       149  \n",
       "2       199       198       195       194       195  \n",
       "3       226       225       222       229       163  \n",
       "4       163       157       163       164       179  \n",
       "\n",
       "[5 rows x 785 columns]"
      ]
     },
     "execution_count": 3,
     "metadata": {},
     "output_type": "execute_result"
    }
   ],
   "source": [
    "signs_train = pd.read_csv('sign_mnist_train.csv')\n",
    "signs_test = pd.read_csv('sign_mnist_test.csv')\n",
    "signs_train.head()"
   ]
  },
  {
   "cell_type": "markdown",
   "metadata": {},
   "source": [
    "There are over 27,000 28x28 pictures in the training set"
   ]
  },
  {
   "cell_type": "code",
   "execution_count": 4,
   "metadata": {},
   "outputs": [
    {
     "data": {
      "text/plain": [
       "(27455, 785)"
      ]
     },
     "execution_count": 4,
     "metadata": {},
     "output_type": "execute_result"
    }
   ],
   "source": [
    "signs_train.shape"
   ]
  },
  {
   "cell_type": "markdown",
   "metadata": {},
   "source": [
    "There are 24 possible labels, 9=J and 25=Z require motion so they are absent."
   ]
  },
  {
   "cell_type": "code",
   "execution_count": 5,
   "metadata": {},
   "outputs": [
    {
     "data": {
      "text/plain": [
       "array([ 0,  1,  2,  3,  4,  5,  6,  7,  8, 10, 11, 12, 13, 14, 15, 16, 17,\n",
       "       18, 19, 20, 21, 22, 23, 24], dtype=int64)"
      ]
     },
     "execution_count": 5,
     "metadata": {},
     "output_type": "execute_result"
    }
   ],
   "source": [
    "labels = signs_train['label'].values\n",
    "labels_test = signs_test['label'].values\n",
    "np.unique(labels)"
   ]
  },
  {
   "cell_type": "markdown",
   "metadata": {},
   "source": [
    "Labels have a somewhat uniform distribution in training set"
   ]
  },
  {
   "cell_type": "code",
   "execution_count": 6,
   "metadata": {},
   "outputs": [
    {
     "data": {
      "text/plain": [
       "<matplotlib.axes._subplots.AxesSubplot at 0x1b66a97fba8>"
      ]
     },
     "execution_count": 6,
     "metadata": {},
     "output_type": "execute_result"
    },
    {
     "data": {
      "image/png": "[encoded data removed]",
      "text/plain": [
       "<Figure size 1296x576 with 1 Axes>"
      ]
     },
     "metadata": {
      "needs_background": "light"
     },
     "output_type": "display_data"
    }
   ],
   "source": [
    "plt.figure(figsize = (18, 8))\n",
    "sns.countplot(x = labels)"
   ]
  },
  {
   "cell_type": "markdown",
   "metadata": {},
   "source": [
    "The testing data varies a bit more, E(4) and R(17) especially"
   ]
  },
  {
   "cell_type": "code",
   "execution_count": 7,
   "metadata": {},
   "outputs": [
    {
     "data": {
      "text/plain": [
       "<matplotlib.axes._subplots.AxesSubplot at 0x1b66aa61940>"
      ]
     },
     "execution_count": 7,
     "metadata": {},
     "output_type": "execute_result"
    },
    {
     "data": {
      "image/png": "[encoded data removed]",
      "text/plain": [
       "<Figure size 1296x576 with 1 Axes>"
      ]
     },
     "metadata": {
      "needs_background": "light"
     },
     "output_type": "display_data"
    }
   ],
   "source": [
    "plt.figure(figsize = (18, 8))\n",
    "sns.countplot(x = labels_test)"
   ]
  },
  {
   "cell_type": "markdown",
   "metadata": {},
   "source": [
    "Create Dataset of Training Data"
   ]
  },
  {
   "cell_type": "code",
   "execution_count": 8,
   "metadata": {},
   "outputs": [],
   "source": [
    "class AmericanSignsDataset(Dataset):\n",
    "    \"\"\"ASL Training Dataset\"\"\"\n",
    "    \n",
    "    def __init__(self, csv_file, transform=None):\n",
    "        \"\"\"\n",
    "        Args:\n",
    "            csv_file (string): Path to the csv file with annotations.\n",
    "            transform (callable, optional): Optional transform to be applied on a sample\n",
    "        \"\"\"\n",
    "        self.signs_frame = pd.read_csv(csv_file)\n",
    "        self.labels_frame = self.signs_frame['label']\n",
    "        self.signs_frame.drop('label', axis=1, inplace=True)\n",
    "        self.transform = transform\n",
    "                \n",
    "    def __len__(self):\n",
    "        return len(self.signs_frame)\n",
    "    \n",
    "    def __getitem__(self, idx):\n",
    "        image = self.signs_frame.values[idx]\n",
    "        image = np.array(image.reshape(28, 28))\n",
    "        label = self.labels_frame.values[idx]\n",
    "\n",
    "        if self.transform:\n",
    "            image = self.transform(image)\n",
    "            \n",
    "        return (image, label)\n",
    "        "
   ]
  },
  {
   "cell_type": "markdown",
   "metadata": {},
   "source": [
    "We need to split a validation set off of the training data"
   ]
  },
  {
   "cell_type": "code",
   "execution_count": 9,
   "metadata": {},
   "outputs": [],
   "source": [
    "transform = transforms.Compose([transforms.ToTensor()])\n",
    "train_data = AmericanSignsDataset(csv_file='sign_mnist_train.csv', transform=transform)\n",
    "lengths = [int(len(train_data)*0.8), int(len(train_data)*0.2)]\n",
    "train_subset, val_subset = torch.utils.data.random_split(train_data, lengths)"
   ]
  },
  {
   "cell_type": "code",
   "execution_count": 10,
   "metadata": {},
   "outputs": [
    {
     "data": {
      "text/plain": [
       "<torch.utils.data.dataset.Subset at 0x1b66b0bb4a8>"
      ]
     },
     "execution_count": 10,
     "metadata": {},
     "output_type": "execute_result"
    }
   ],
   "source": [
    "train_subset"
   ]
  },
  {
   "cell_type": "markdown",
   "metadata": {},
   "source": [
    "Each Dataset entry contains the sign and its label"
   ]
  },
  {
   "cell_type": "code",
   "execution_count": 11,
   "metadata": {},
   "outputs": [
    {
     "name": "stdout",
     "output_type": "stream",
     "text": [
      "(28, 28)\n"
     ]
    },
    {
     "data": {
      "image/png": "[encoded data removed]",
      "text/plain": [
       "<Figure size 432x288 with 1 Axes>"
      ]
     },
     "metadata": {
      "needs_background": "light"
     },
     "output_type": "display_data"
    }
   ],
   "source": [
    "def imshow(img, title):\n",
    "    npimg = img.numpy()\n",
    "    npimg = npimg.squeeze()\n",
    "    print(npimg.shape)\n",
    "    plt.imshow(npimg)\n",
    "    plt.title(title)\n",
    "    plt.show()\n",
    "imshow(train_subset[100][0], letter_dict[train_subset[100][1]])"
   ]
  },
  {
   "cell_type": "markdown",
   "metadata": {},
   "source": [
    "The DataLoader will take batches of **10** signs"
   ]
  },
  {
   "cell_type": "code",
   "execution_count": 12,
   "metadata": {},
   "outputs": [
    {
     "name": "stdout",
     "output_type": "stream",
     "text": [
      "tensor([20,  3,  2,  2,  4,  5,  2,  7, 24, 21])\n"
     ]
    },
    {
     "data": {
      "image/png": "[encoded data removed]",
      "text/plain": [
       "<Figure size 432x288 with 1 Axes>"
      ]
     },
     "metadata": {
      "needs_background": "light"
     },
     "output_type": "display_data"
    }
   ],
   "source": [
    "trainloader = DataLoader(train_subset, batch_size=10, shuffle=True, num_workers=0)\n",
    "valloader = DataLoader(val_subset, batch_size=10, shuffle=True, num_workers=0)\n",
    "dataiter = iter(trainloader)\n",
    "images, labels = dataiter.next()\n",
    "\n",
    "# show images\n",
    "def show(img):\n",
    "    npimg = img.numpy()\n",
    "    plt.imshow(np.transpose(npimg, (1,2,0)), interpolation='nearest')\n",
    "    \n",
    "show(torchvision.utils.make_grid(images))\n",
    "print(labels)"
   ]
  },
  {
   "cell_type": "markdown",
   "metadata": {},
   "source": [
    "Make sure the network will be run on the GPU if available"
   ]
  },
  {
   "cell_type": "code",
   "execution_count": 13,
   "metadata": {},
   "outputs": [
    {
     "name": "stdout",
     "output_type": "stream",
     "text": [
      "cuda:0\n"
     ]
    }
   ],
   "source": [
    "device = torch.device(\"cuda:0\" if torch.cuda.is_available() else \"cpu\")\n",
    "print(device)"
   ]
  },
  {
   "cell_type": "markdown",
   "metadata": {},
   "source": [
    "Now we define the CNN, <br/><br/>\n",
    "This model has 7 hidden layers:\n",
    "- 3 Convolution layers using a 3x3 Kernel and Relu activation\n",
    "- First two Conv layer are followed by a max-pooling layer\n",
    "- After all Conv and Max-Pooling the results are squeezed into a 128 dense layer followed 64 size dense layer \n",
    "- Finally the 64 dense is put into a 26 dense layer and we look at the outputs "
   ]
  },
  {
   "cell_type": "code",
   "execution_count": 47,
   "metadata": {},
   "outputs": [],
   "source": [
    "import torch.nn as nn\n",
    "import torch.nn.functional as F\n",
    "\n",
    "class Net(nn.Module):\n",
    "    def __init__(self):\n",
    "        super(Net, self).__init__()\n",
    "        self.conv1 = nn.Conv2d(1, 64, 3)\n",
    "        self.pool = nn.MaxPool2d(2,2)\n",
    "        self.conv2 = nn.Conv2d(64, 64, 3)\n",
    "        self.fc1 = nn.Linear(3 * 3 * 64, 128)\n",
    "        self.fc2 = nn.Linear(128, 26)\n",
    "        self.dropout = nn.Dropout()\n",
    "        \n",
    "    def forward(self, x):\n",
    "        #print(x.shape)\n",
    "        x = self.pool(F.relu(self.conv1(x)))\n",
    "        #print(x.shape)\n",
    "        # The max pool here is odd\n",
    "        x = self.pool(F.relu(self.conv2(x)))\n",
    "        #print(x.shape)\n",
    "        x = F.relu(self.conv2(x))\n",
    "        #print(x.shape)\n",
    "        x = x.view(-1, 3 * 3 * 64)\n",
    "        x = F.relu(self.fc1(x))\n",
    "        x = self.dropout(x)\n",
    "        x = self.fc2(x)\n",
    "        return x\n",
    "    \n",
    "net = Net()\n",
    "net = net.to(device)"
   ]
  },
  {
   "cell_type": "code",
   "execution_count": 48,
   "metadata": {},
   "outputs": [
    {
     "data": {
      "text/plain": [
       "Net(\n",
       "  (conv1): Conv2d(1, 64, kernel_size=(3, 3), stride=(1, 1))\n",
       "  (pool): MaxPool2d(kernel_size=2, stride=2, padding=0, dilation=1, ceil_mode=False)\n",
       "  (conv2): Conv2d(64, 64, kernel_size=(3, 3), stride=(1, 1))\n",
       "  (fc1): Linear(in_features=576, out_features=128, bias=True)\n",
       "  (fc2): Linear(in_features=128, out_features=26, bias=True)\n",
       "  (dropout): Dropout(p=0.5)\n",
       ")"
      ]
     },
     "execution_count": 48,
     "metadata": {},
     "output_type": "execute_result"
    }
   ],
   "source": [
    "net"
   ]
  },
  {
   "cell_type": "markdown",
   "metadata": {},
   "source": [
    "Using **Cross Entropy** for loss and **Stochastic Gradient Descent** with momentum<br />\n",
    "Cross Entropy is a common loss used for classification problems, SGD makes the progress of gradient descent but avoid having to look at the entire dataset on each step. The momentum also helps break through any local minima that we may run into."
   ]
  },
  {
   "cell_type": "code",
   "execution_count": 49,
   "metadata": {},
   "outputs": [],
   "source": [
    "import torch.optim as optim\n",
    "\n",
    "criterion = nn.CrossEntropyLoss()\n",
    "optimizer = optim.Adam(net.parameters(), lr=0.0001)"
   ]
  },
  {
   "cell_type": "markdown",
   "metadata": {},
   "source": [
    "Time to train! I'm running the training data through the model for 20 epochs."
   ]
  },
  {
   "cell_type": "code",
   "execution_count": 50,
   "metadata": {},
   "outputs": [
    {
     "name": "stdout",
     "output_type": "stream",
     "text": [
      "[1,   500] loss: 3.013\n",
      "[1,  1000] loss: 2.021\n",
      "[1,  1500] loss: 1.329\n",
      "[1,  2000] loss: 0.929\n",
      "[2,   500] loss: 0.622\n",
      "[2,  1000] loss: 0.509\n",
      "[2,  1500] loss: 0.362\n",
      "[2,  2000] loss: 0.294\n",
      "[3,   500] loss: 0.213\n",
      "[3,  1000] loss: 0.180\n",
      "[3,  1500] loss: 0.151\n",
      "[3,  2000] loss: 0.149\n",
      "[4,   500] loss: 0.102\n",
      "[4,  1000] loss: 0.098\n",
      "[4,  1500] loss: 0.097\n",
      "[4,  2000] loss: 0.083\n",
      "[5,   500] loss: 0.077\n",
      "[5,  1000] loss: 0.059\n",
      "[5,  1500] loss: 0.058\n",
      "[5,  2000] loss: 0.055\n",
      "[6,   500] loss: 0.061\n",
      "[6,  1000] loss: 0.056\n",
      "[6,  1500] loss: 0.046\n",
      "[6,  2000] loss: 0.041\n",
      "[7,   500] loss: 0.040\n",
      "[7,  1000] loss: 0.041\n",
      "[7,  1500] loss: 0.040\n",
      "[7,  2000] loss: 0.038\n",
      "[8,   500] loss: 0.022\n",
      "[8,  1000] loss: 0.030\n",
      "[8,  1500] loss: 0.036\n",
      "[8,  2000] loss: 0.026\n",
      "[9,   500] loss: 0.017\n",
      "[9,  1000] loss: 0.036\n",
      "[9,  1500] loss: 0.020\n",
      "[9,  2000] loss: 0.014\n",
      "[10,   500] loss: 0.026\n",
      "[10,  1000] loss: 0.026\n",
      "[10,  1500] loss: 0.021\n",
      "[10,  2000] loss: 0.022\n",
      "[11,   500] loss: 0.026\n",
      "[11,  1000] loss: 0.019\n",
      "[11,  1500] loss: 0.026\n",
      "[11,  2000] loss: 0.012\n",
      "[12,   500] loss: 0.031\n",
      "[12,  1000] loss: 0.013\n",
      "[12,  1500] loss: 0.021\n",
      "[12,  2000] loss: 0.017\n",
      "[13,   500] loss: 0.015\n",
      "[13,  1000] loss: 0.013\n",
      "[13,  1500] loss: 0.016\n",
      "[13,  2000] loss: 0.011\n",
      "[14,   500] loss: 0.021\n",
      "[14,  1000] loss: 0.020\n",
      "[14,  1500] loss: 0.014\n",
      "[14,  2000] loss: 0.012\n",
      "[15,   500] loss: 0.016\n",
      "[15,  1000] loss: 0.009\n",
      "[15,  1500] loss: 0.017\n",
      "[15,  2000] loss: 0.016\n",
      "[16,   500] loss: 0.007\n",
      "[16,  1000] loss: 0.007\n",
      "[16,  1500] loss: 0.017\n",
      "[16,  2000] loss: 0.014\n",
      "[17,   500] loss: 0.007\n",
      "[17,  1000] loss: 0.006\n",
      "[17,  1500] loss: 0.026\n",
      "[17,  2000] loss: 0.015\n",
      "[18,   500] loss: 0.007\n",
      "[18,  1000] loss: 0.007\n",
      "[18,  1500] loss: 0.011\n",
      "[18,  2000] loss: 0.009\n",
      "[19,   500] loss: 0.012\n",
      "[19,  1000] loss: 0.005\n",
      "[19,  1500] loss: 0.006\n",
      "[19,  2000] loss: 0.006\n",
      "[20,   500] loss: 0.014\n",
      "[20,  1000] loss: 0.007\n",
      "[20,  1500] loss: 0.005\n",
      "[20,  2000] loss: 0.021\n",
      "Finished Training\n"
     ]
    }
   ],
   "source": [
    "loss_log = []\n",
    "for epoch in range(20): # loop over dataset multiple times\n",
    "    running_loss = 0.0\n",
    "    for i, data in enumerate(trainloader, 0):\n",
    "        inputs, labels = data\n",
    "        inputs = inputs.to(device)\n",
    "        labels = labels.to(device)\n",
    "        \n",
    "        # Debug\n",
    "       # print(type(inputs))\n",
    "       # print(labels.size())\n",
    "        #print(inputs.size())\n",
    "        #print(inputs.dim())\n",
    "        \n",
    "        # zero parameter gradients\n",
    "        optimizer.zero_grad()\n",
    "        \n",
    "        # forward + backward + optimize\n",
    "        outputs = net(inputs.float())\n",
    "        \n",
    "        #print(outputs.shape)\n",
    "        \n",
    "        loss = criterion(outputs, labels)\n",
    "        loss.backward()\n",
    "        optimizer.step()\n",
    "        \n",
    "        # print statistics\n",
    "        running_loss += loss.item()\n",
    "        if i % 500 == 499: # print every 500 iterations\n",
    "            print('[%d, %5d] loss: %.3f' %\n",
    "                 (epoch + 1, i + 1, running_loss / 500))\n",
    "            loss_log.append(running_loss / 500)\n",
    "            running_loss = 0.0\n",
    "            \n",
    "print('Finished Training')"
   ]
  },
  {
   "cell_type": "code",
   "execution_count": 51,
   "metadata": {},
   "outputs": [
    {
     "data": {
      "text/plain": [
       "Text(0, 0.5, 'loss')"
      ]
     },
     "execution_count": 51,
     "metadata": {},
     "output_type": "execute_result"
    },
    {
     "data": {
      "image/png": "[encoded data removed]",
      "text/plain": [
       "<Figure size 720x576 with 1 Axes>"
      ]
     },
     "metadata": {
      "needs_background": "light"
     },
     "output_type": "display_data"
    }
   ],
   "source": [
    "%matplotlib inline\n",
    "\n",
    "plt.figure(figsize=(10,8))\n",
    "plt.plot(loss_log)\n",
    "plt.xlabel('Mini-Batches')\n",
    "plt.ylabel('loss')\n",
    "#plt.plot(np.ones(len(acc_log)), linestyle='dashed')"
   ]
  },
  {
   "cell_type": "markdown",
   "metadata": {},
   "source": [
    "The more we train on the same data, the higher chance of **overfitting** so we must use our validation set to keep our model in check."
   ]
  },
  {
   "cell_type": "code",
   "execution_count": 52,
   "metadata": {},
   "outputs": [
    {
     "name": "stdout",
     "output_type": "stream",
     "text": [
      "GroundTruth:      X     T     V     U     Y     S     A     F     X     X\n"
     ]
    },
    {
     "data": {
      "image/png": "[encoded data removed]",
      "text/plain": [
       "<Figure size 432x288 with 1 Axes>"
      ]
     },
     "metadata": {
      "needs_background": "light"
     },
     "output_type": "display_data"
    }
   ],
   "source": [
    "dataiter = iter(valloader)\n",
    "images, labels = dataiter.next()\n",
    "\n",
    "# Print images\n",
    "show(torchvision.utils.make_grid(images))\n",
    "print('GroundTruth: ', ' '.join('%5s' % letter_dict[labels[j].item()] for j in range(10)))"
   ]
  },
  {
   "cell_type": "code",
   "execution_count": 53,
   "metadata": {},
   "outputs": [],
   "source": [
    "outputs = net(images.float().to(device))"
   ]
  },
  {
   "cell_type": "code",
   "execution_count": 54,
   "metadata": {},
   "outputs": [
    {
     "name": "stdout",
     "output_type": "stream",
     "text": [
      "Predictied:      X     T     V     U     Y     S     A     F     X     X\n"
     ]
    }
   ],
   "source": [
    "_, predicted = torch.max(outputs, 1)\n",
    "\n",
    "print('Predictied: ', ' '.join('%5s' % letter_dict[predicted[j].item()] for j in range(10)))"
   ]
  },
  {
   "cell_type": "markdown",
   "metadata": {},
   "source": [
    "Results with Validation set:"
   ]
  },
  {
   "cell_type": "code",
   "execution_count": 55,
   "metadata": {},
   "outputs": [],
   "source": [
    "def run_test(loader):\n",
    "    correct = 0\n",
    "    total = 0\n",
    "    y_pred = np.array([])\n",
    "    y_actual = np.array([])\n",
    "    with torch.no_grad():\n",
    "        for data in loader:\n",
    "            images, labels = data\n",
    "            outputs = net(images.float().to(device))\n",
    "            _, predicted = torch.max(outputs.data, 1)\n",
    "\n",
    "            y_pred = np.append(y_pred, predicted.cpu().numpy())\n",
    "            y_actual = np.append(y_actual, labels.cpu().numpy())\n",
    "\n",
    "            total += labels.size(0)\n",
    "            correct += (predicted == labels.to(device)).sum().item()\n",
    "    return correct/total, y_pred, y_actual"
   ]
  },
  {
   "cell_type": "code",
   "execution_count": 56,
   "metadata": {},
   "outputs": [
    {
     "name": "stdout",
     "output_type": "stream",
     "text": [
      "Accuracy of the network on the validation images: 99 %\n"
     ]
    }
   ],
   "source": [
    "acc, y_pred, y_actual = run_test(valloader)\n",
    "print('Accuracy of the network on the validation images: %d %%' % (\n",
    "    100 * acc))"
   ]
  },
  {
   "cell_type": "markdown",
   "metadata": {},
   "source": [
    "**Confusion matrix** of results:"
   ]
  },
  {
   "cell_type": "code",
   "execution_count": 57,
   "metadata": {
    "scrolled": false
   },
   "outputs": [
    {
     "name": "stdout",
     "output_type": "stream",
     "text": [
      "[ 1. 22. 12. ... 13.  2.  1.]\n",
      "[ 1. 22. 12. ... 13.  2.  1.]\n"
     ]
    },
    {
     "data": {
      "text/plain": [
       "array([[237,   0,   0,   0,   0,   0,   0,   0,   0,   0,   0,   0,   0,\n",
       "          0,   0,   0,   0,   0,   0,   0,   0,   0,   0,   0],\n",
       "       [  0, 195,   0,   0,   0,   0,   0,   0,   0,   0,   0,   0,   0,\n",
       "          0,   0,   0,   0,   0,   0,   0,   0,   0,   0,   0],\n",
       "       [  0,   0, 233,   0,   0,   0,   0,   0,   0,   0,   0,   0,   0,\n",
       "          0,   0,   0,   0,   0,   0,   0,   0,   0,   0,   0],\n",
       "       [  0,   0,   0, 233,   0,   0,   0,   0,   0,   0,   0,   0,   0,\n",
       "          0,   0,   0,   0,   0,   0,   0,   0,   0,   0,   0],\n",
       "       [  0,   0,   0,   0, 189,   0,   0,   0,   0,   0,   0,   0,   0,\n",
       "          0,   0,   1,   0,   1,   0,   0,   0,   0,   0,   0],\n",
       "       [  0,   0,   0,   0,   0, 232,   0,   0,   0,   0,   0,   0,   0,\n",
       "          0,   0,   0,   0,   0,   1,   0,   0,   0,   1,   0],\n",
       "       [  0,   0,   0,   0,   0,   0, 237,   0,   0,   0,   0,   0,   0,\n",
       "          0,   0,   0,   0,   0,   0,   0,   0,   0,   0,   0],\n",
       "       [  0,   0,   0,   0,   0,   0,   0, 195,   0,   0,   0,   0,   0,\n",
       "          0,   0,   0,   0,   0,   0,   0,   0,   0,   0,   0],\n",
       "       [  0,   0,   0,   0,   0,   0,   0,   0, 240,   0,   0,   0,   0,\n",
       "          0,   0,   0,   0,   0,   1,   0,   0,   0,   0,   0],\n",
       "       [  0,   0,   0,   0,   0,   0,   0,   0,   0, 240,   0,   0,   0,\n",
       "          0,   0,   0,   0,   0,   0,   0,   0,   0,   0,   0],\n",
       "       [  0,   0,   0,   0,   0,   0,   0,   0,   0,   0, 253,   0,   0,\n",
       "          0,   0,   0,   0,   0,   0,   0,   0,   0,   0,   0],\n",
       "       [  0,   0,   0,   0,   0,   0,   0,   0,   0,   0,   0, 196,   0,\n",
       "          0,   0,   0,   0,   0,   0,   0,   0,   0,   0,   0],\n",
       "       [  0,   0,   0,   0,   0,   0,   0,   0,   0,   0,   0,   0, 212,\n",
       "          0,   0,   0,   0,   0,   0,   0,   0,   0,   0,   0],\n",
       "       [  0,   0,   0,   0,   0,   0,   0,   0,   0,   0,   0,   0,   0,\n",
       "        228,   0,   0,   0,   0,   0,   0,   0,   0,   0,   0],\n",
       "       [  0,   0,   0,   0,   0,   0,   0,   0,   0,   0,   0,   0,   0,\n",
       "          0, 214,   0,   0,   0,   0,   0,   0,   0,   0,   0],\n",
       "       [  0,   0,   0,   0,   0,   0,   0,   0,   0,   0,   0,   0,   0,\n",
       "          0,   0, 238,   0,   0,   0,   0,   0,   0,   0,   0],\n",
       "       [  0,   0,   0,   0,   0,   0,   0,   0,   0,   0,   0,   0,   0,\n",
       "          0,   0,   0, 263,   0,   0,   1,   0,   0,   0,   0],\n",
       "       [  0,   0,   0,   0,   0,   0,   0,   0,   0,   0,   0,   0,   0,\n",
       "          0,   0,   0,   0, 248,   0,   0,   0,   0,   0,   0],\n",
       "       [  0,   0,   0,   0,   0,   0,   0,   0,   0,   0,   0,   0,   0,\n",
       "          0,   0,   0,   0,   0, 249,   0,   0,   0,   0,   0],\n",
       "       [  0,   0,   0,   0,   0,   0,   0,   0,   0,   0,   0,   0,   0,\n",
       "          0,   0,   0,   0,   0,   0, 228,   0,   0,   0,   0],\n",
       "       [  0,   0,   0,   0,   0,   0,   0,   0,   0,   0,   0,   0,   0,\n",
       "          0,   0,   0,   0,   0,   0,   0, 203,   0,   0,   0],\n",
       "       [  0,   0,   0,   0,   0,   0,   0,   0,   0,   0,   0,   0,   0,\n",
       "          0,   0,   0,   0,   0,   0,   0,   0, 235,   0,   0],\n",
       "       [  0,   0,   0,   0,   0,   0,   0,   0,   0,   0,   0,   0,   0,\n",
       "          0,   0,   0,   0,   0,   0,   0,   0,   0, 251,   0],\n",
       "       [  0,   0,   0,   0,   0,   0,   0,   0,   0,   0,   0,   0,   0,\n",
       "          0,   0,   0,   0,   0,   0,   0,   0,   0,   0, 236]],\n",
       "      dtype=int64)"
      ]
     },
     "execution_count": 57,
     "metadata": {},
     "output_type": "execute_result"
    }
   ],
   "source": [
    "from sklearn.metrics import confusion_matrix\n",
    "print(y_pred)\n",
    "print(y_actual)\n",
    "confusion_matrix(y_actual, y_pred)"
   ]
  },
  {
   "cell_type": "code",
   "execution_count": 58,
   "metadata": {
    "scrolled": false
   },
   "outputs": [
    {
     "name": "stdout",
     "output_type": "stream",
     "text": [
      "              precision    recall  f1-score   support\n",
      "\n",
      "         0.0       1.00      1.00      1.00       237\n",
      "         1.0       1.00      1.00      1.00       195\n",
      "         2.0       1.00      1.00      1.00       233\n",
      "         3.0       1.00      1.00      1.00       233\n",
      "         4.0       1.00      0.99      0.99       191\n",
      "         5.0       1.00      0.99      1.00       234\n",
      "         6.0       1.00      1.00      1.00       237\n",
      "         7.0       1.00      1.00      1.00       195\n",
      "         8.0       1.00      1.00      1.00       241\n",
      "        10.0       1.00      1.00      1.00       240\n",
      "        11.0       1.00      1.00      1.00       253\n",
      "        12.0       1.00      1.00      1.00       196\n",
      "        13.0       1.00      1.00      1.00       212\n",
      "        14.0       1.00      1.00      1.00       228\n",
      "        15.0       1.00      1.00      1.00       214\n",
      "        16.0       1.00      1.00      1.00       238\n",
      "        17.0       1.00      1.00      1.00       264\n",
      "        18.0       1.00      1.00      1.00       248\n",
      "        19.0       0.99      1.00      1.00       249\n",
      "        20.0       1.00      1.00      1.00       228\n",
      "        21.0       1.00      1.00      1.00       203\n",
      "        22.0       1.00      1.00      1.00       235\n",
      "        23.0       1.00      1.00      1.00       251\n",
      "        24.0       1.00      1.00      1.00       236\n",
      "\n",
      "   micro avg       1.00      1.00      1.00      5491\n",
      "   macro avg       1.00      1.00      1.00      5491\n",
      "weighted avg       1.00      1.00      1.00      5491\n",
      "\n"
     ]
    }
   ],
   "source": [
    "from sklearn.metrics import classification_report\n",
    "print(classification_report(y_actual, y_pred))"
   ]
  },
  {
   "cell_type": "markdown",
   "metadata": {},
   "source": [
    "The following are tunable hyperparams:\n",
    "- batch size\n",
    "- epochs\n",
    "- learning rate\n",
    "- momentum\n",
    "- dropout prob"
   ]
  },
  {
   "cell_type": "markdown",
   "metadata": {},
   "source": [
    "This is great training and validation results! Time to move on to testing"
   ]
  },
  {
   "cell_type": "code",
   "execution_count": 59,
   "metadata": {},
   "outputs": [],
   "source": [
    "test_data = AmericanSignsDataset(csv_file='sign_mnist_test.csv', transform=transform)"
   ]
  },
  {
   "cell_type": "code",
   "execution_count": 60,
   "metadata": {},
   "outputs": [],
   "source": [
    "testloader = DataLoader(test_data, batch_size=10, shuffle=True, num_workers=0)"
   ]
  },
  {
   "cell_type": "code",
   "execution_count": 61,
   "metadata": {},
   "outputs": [
    {
     "name": "stdout",
     "output_type": "stream",
     "text": [
      "Accuracy of the network on the validation images: 91 %\n"
     ]
    }
   ],
   "source": [
    "acc, y_pred, y_actual = run_test(testloader)\n",
    "print('Accuracy of the network on the validation images: %d %%' % (\n",
    "    100 * acc))"
   ]
  },
  {
   "cell_type": "code",
   "execution_count": 62,
   "metadata": {},
   "outputs": [
    {
     "data": {
      "text/plain": [
       "array([[330,   0,   0,   0,   0,   0,   0,   0,   0,   0,   0,   1,   0,\n",
       "          0,   0,   0,   0,   0,   0,   0,   0,   0,   0,   0],\n",
       "       [  0, 412,   0,   0,   0,   4,   0,   0,   0,   2,   0,   0,   0,\n",
       "          0,   1,   2,   0,   0,   0,   0,   0,  11,   0,   0],\n",
       "       [  0,   0, 300,   0,   0,   0,   0,   0,   0,   0,   2,   0,   0,\n",
       "          7,   0,   1,   0,   0,   0,   0,   0,   0,   0,   0],\n",
       "       [  1,   1,   0, 237,   0,   1,   0,   0,   0,   1,   1,   0,   1,\n",
       "          0,   0,   0,   0,   1,   1,   0,   0,   0,   0,   0],\n",
       "       [  0,   0,   0,   0, 482,   0,   0,   0,   0,   0,   0,   6,   0,\n",
       "          1,   0,   0,   0,   9,   0,   0,   0,   0,   0,   0],\n",
       "       [  0,   0,   0,   0,   0, 246,   0,   0,   0,   0,   0,   0,   0,\n",
       "          1,   0,   0,   0,   0,   0,   0,   0,   0,   0,   0],\n",
       "       [  0,   0,   0,   0,   0,   0, 294,  10,   0,   0,   0,   0,   0,\n",
       "          1,   6,  27,   1,   0,   3,   0,   0,   0,   6,   0],\n",
       "       [  0,   0,   0,   0,   0,   0,  21, 411,   0,   0,   1,   0,   1,\n",
       "          0,   0,   0,   0,   0,   2,   0,   0,   0,   0,   0],\n",
       "       [  0,   0,   0,   0,   0,   1,   0,   0, 256,   0,   0,   0,   0,\n",
       "          0,   1,   0,   0,   0,   0,   0,   0,   0,   0,  30],\n",
       "       [  0,   0,   0,   1,   0,   0,   0,   2,   4, 310,   0,   0,   0,\n",
       "          0,   2,   0,   2,   4,   1,   0,   0,   0,   0,   5],\n",
       "       [  0,   0,   1,   0,   0,   0,   0,   0,   0,   0, 207,   0,   0,\n",
       "          0,   0,   0,   0,   0,   1,   0,   0,   0,   0,   0],\n",
       "       [  7,   0,   0,   0,  15,   0,   0,   0,   0,   0,   0, 336,  31,\n",
       "          0,   0,   0,   0,   2,   3,   0,   0,   0,   0,   0],\n",
       "       [ 30,   0,   0,   0,   0,   0,   0,   0,   0,   0,   0,  27, 221,\n",
       "          0,   0,   0,   0,   4,   0,   8,   0,   0,   0,   1],\n",
       "       [  0,   0,  20,   1,   0,   0,   0,   0,   0,   0,   0,   0,   1,\n",
       "        218,   1,   3,   0,   0,   0,   0,   0,   0,   2,   0],\n",
       "       [  0,   0,   0,   0,   0,   0,   0,   0,   0,   2,   3,   0,   0,\n",
       "          0, 340,   2,   0,   0,   0,   0,   0,   0,   0,   0],\n",
       "       [  0,   0,   0,   0,   0,   0,   0,   0,   0,   0,   0,   0,   0,\n",
       "          0,   0, 164,   0,   0,   0,   0,   0,   0,   0,   0],\n",
       "       [  0,   0,   0,   0,   0,   0,   0,   0,   0,   1,   3,   0,   0,\n",
       "          0,   0,   0, 107,  11,   0,   2,  18,   2,   0,   0],\n",
       "       [  1,   0,   0,   1,   0,   0,   0,   2,   0,   0,   0,   6,   0,\n",
       "          0,   0,   4,   0, 232,   0,   0,   0,   0,   0,   0],\n",
       "       [  0,   0,   0,   0,   0,   0,   0,  10,   7,   0,   7,   0,   0,\n",
       "          0,   3,   0,   0,   0, 192,   1,   0,   0,  28,   0],\n",
       "       [  0,   1,   0,   3,   0,   0,   1,   0,   0,   4,   0,   0,   0,\n",
       "          0,   0,   0,   3,   0,   0, 253,   0,   0,   1,   0],\n",
       "       [  0,   0,   0,   0,   0,   0,   0,   0,   0,  13,  11,   0,   0,\n",
       "          0,   1,   0,  14,   0,   4,   5, 287,  10,   1,   0],\n",
       "       [  0,   0,   0,   0,   0,   1,   0,   0,   0,   0,   0,   0,   0,\n",
       "          0,   0,   0,   0,   0,   0,   0,   1, 204,   0,   0],\n",
       "       [  0,   0,   0,   0,   0,   0,   0,   0,   0,   0,   0,   0,   0,\n",
       "          0,   0,   0,   0,   0,   9,   0,   0,   1, 257,   0],\n",
       "       [  0,   0,   0,   1,   0,   0,   0,   1,  39,   2,   0,   0,   1,\n",
       "          0,   8,   0,   0,   1,   0,   0,   1,   0,   0, 278]],\n",
       "      dtype=int64)"
      ]
     },
     "execution_count": 62,
     "metadata": {},
     "output_type": "execute_result"
    }
   ],
   "source": [
    "confusion_matrix(y_actual, y_pred)"
   ]
  },
  {
   "cell_type": "code",
   "execution_count": 63,
   "metadata": {},
   "outputs": [
    {
     "name": "stdout",
     "output_type": "stream",
     "text": [
      "              precision    recall  f1-score   support\n",
      "\n",
      "         0.0       0.89      1.00      0.94       331\n",
      "         1.0       1.00      0.95      0.97       432\n",
      "         2.0       0.93      0.97      0.95       310\n",
      "         3.0       0.97      0.97      0.97       245\n",
      "         4.0       0.97      0.97      0.97       498\n",
      "         5.0       0.97      1.00      0.98       247\n",
      "         6.0       0.93      0.84      0.89       348\n",
      "         7.0       0.94      0.94      0.94       436\n",
      "         8.0       0.84      0.89      0.86       288\n",
      "        10.0       0.93      0.94      0.93       331\n",
      "        11.0       0.88      0.99      0.93       209\n",
      "        12.0       0.89      0.85      0.87       394\n",
      "        13.0       0.86      0.76      0.81       291\n",
      "        14.0       0.96      0.89      0.92       246\n",
      "        15.0       0.94      0.98      0.96       347\n",
      "        16.0       0.81      1.00      0.89       164\n",
      "        17.0       0.84      0.74      0.79       144\n",
      "        18.0       0.88      0.94      0.91       246\n",
      "        19.0       0.89      0.77      0.83       248\n",
      "        20.0       0.94      0.95      0.95       266\n",
      "        21.0       0.93      0.83      0.88       346\n",
      "        22.0       0.89      0.99      0.94       206\n",
      "        23.0       0.87      0.96      0.91       267\n",
      "        24.0       0.89      0.84      0.86       332\n",
      "\n",
      "   micro avg       0.92      0.92      0.92      7172\n",
      "   macro avg       0.91      0.92      0.91      7172\n",
      "weighted avg       0.92      0.92      0.92      7172\n",
      "\n"
     ]
    }
   ],
   "source": [
    "print(classification_report(y_actual, y_pred))"
   ]
  },
  {
   "cell_type": "code",
   "execution_count": null,
   "metadata": {},
   "outputs": [],
   "source": []
  }
 ],
 "metadata": {
  "kernelspec": {
   "display_name": "Python 3",
   "language": "python",
   "name": "python3"
  },
  "language_info": {
   "codemirror_mode": {
    "name": "ipython",
    "version": 3
   },
   "file_extension": ".py",
   "mimetype": "text/x-python",
   "name": "python",
   "nbconvert_exporter": "python",
   "pygments_lexer": "ipython3",
   "version": "3.7.1"
  }
 },
 "nbformat": 4,
 "nbformat_minor": 2
}
